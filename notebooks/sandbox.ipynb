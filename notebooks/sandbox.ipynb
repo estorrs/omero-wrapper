{
 "cells": [
  {
   "cell_type": "code",
   "execution_count": 1,
   "id": "b6804a20",
   "metadata": {},
   "outputs": [],
   "source": [
    "from omero.gateway import BlitzGateway\n",
    "\n"
   ]
  },
  {
   "cell_type": "code",
   "execution_count": 3,
   "id": "abff4db7",
   "metadata": {},
   "outputs": [],
   "source": [
    "%load_ext autoreload"
   ]
  },
  {
   "cell_type": "code",
   "execution_count": 4,
   "id": "3f7c7a63",
   "metadata": {},
   "outputs": [],
   "source": [
    "%autoreload 2"
   ]
  },
  {
   "cell_type": "code",
   "execution_count": 5,
   "id": "f0226f10",
   "metadata": {},
   "outputs": [],
   "source": [
    "import omero_wrapper.utils as utils"
   ]
  },
  {
   "cell_type": "code",
   "execution_count": 2,
   "id": "8ccffb67",
   "metadata": {},
   "outputs": [
    {
     "data": {
      "text/plain": [
       "True"
      ]
     },
     "execution_count": 2,
     "metadata": {},
     "output_type": "execute_result"
    }
   ],
   "source": [
    "group = 'HTAN'\n",
    "project = 'CODEX_initial'\n",
    "username = 'estorrs'\n",
    "password = ''\n",
    "host = 'htan-imaging.wucon.wustl.edu'\n",
    "port = '4064'\n",
    "conn = BlitzGateway(username, password, host=host, port=port,\n",
    "                    secure=True, group=group)\n",
    "conn.connect()"
   ]
  },
  {
   "cell_type": "code",
   "execution_count": 6,
   "id": "4d5043d7",
   "metadata": {},
   "outputs": [],
   "source": [
    "image = utils.get_image(conn, project='Multiplex_Imaging', dataset='HT308B1-S1H5A4_U1_20230526', image_name='test')"
   ]
  },
  {
   "cell_type": "code",
   "execution_count": 8,
   "id": "a546f923",
   "metadata": {},
   "outputs": [
    {
     "data": {
      "text/plain": [
       "6395"
      ]
     },
     "execution_count": 8,
     "metadata": {},
     "output_type": "execute_result"
    }
   ],
   "source": [
    "image.getId()"
   ]
  },
  {
   "cell_type": "code",
   "execution_count": null,
   "id": "6ec9647d",
   "metadata": {},
   "outputs": [],
   "source": []
  }
 ],
 "metadata": {
  "kernelspec": {
   "display_name": "Python 3 (ipykernel)",
   "language": "python",
   "name": "python3"
  },
  "language_info": {
   "codemirror_mode": {
    "name": "ipython",
    "version": 3
   },
   "file_extension": ".py",
   "mimetype": "text/x-python",
   "name": "python",
   "nbconvert_exporter": "python",
   "pygments_lexer": "ipython3",
   "version": "3.10.8"
  }
 },
 "nbformat": 4,
 "nbformat_minor": 5
}
