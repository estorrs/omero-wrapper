{
 "cells": [
  {
   "cell_type": "code",
   "execution_count": 1,
   "id": "8cc2bf4d",
   "metadata": {},
   "outputs": [],
   "source": [
    "import os\n",
    "import yaml\n",
    "import json\n",
    "import pandas as pd\n",
    "from pathlib import Path"
   ]
  },
  {
   "cell_type": "code",
   "execution_count": null,
   "id": "78bd2d3f",
   "metadata": {},
   "outputs": [],
   "source": []
  },
  {
   "cell_type": "code",
   "execution_count": null,
   "id": "599f1647",
   "metadata": {},
   "outputs": [],
   "source": []
  },
  {
   "cell_type": "code",
   "execution_count": 2,
   "id": "cc362bc7",
   "metadata": {},
   "outputs": [],
   "source": [
    "# m = yaml.safe_load(open('/diskmnt/Projects/Users/estorrs/pecgs-pipeline/examples/pecgs_TN_wxs_bam//test_sample/C3L-00677/summary.yaml'))\n",
    "# m"
   ]
  },
  {
   "cell_type": "code",
   "execution_count": 23,
   "id": "49ca98f4",
   "metadata": {},
   "outputs": [
    {
     "data": {
      "text/plain": [
       "{'dataset': 'a_string',\n",
       " 'filepath': {'class': 'File', 'path': 'a/file/path'},\n",
       " 'group': 'a_string',\n",
       " 'host': 'a_string',\n",
       " 'image_id': 'a_string',\n",
       " 'image_name': 'a_string',\n",
       " 'port': 'a_string',\n",
       " 'project': 'a_string'}"
      ]
     },
     "execution_count": 23,
     "metadata": {},
     "output_type": "execute_result"
    }
   ],
   "source": [
    "template = yaml.safe_load(open('../cwl/template.omero_wrapper.yaml'))\n",
    "template"
   ]
  },
  {
   "cell_type": "code",
   "execution_count": 24,
   "id": "6af2824d",
   "metadata": {},
   "outputs": [
    {
     "data": {
      "text/plain": [
       "'a_string'"
      ]
     },
     "execution_count": 24,
     "metadata": {},
     "output_type": "execute_result"
    }
   ],
   "source": [
    "template['filepath']['path'] = '/storage1/fs1/dinglab/Active/Projects/estorrs/sandbox/test_images/HT308B1-S1H5A4_right_05262023.ome.tiff'\n",
    "template['group'] = 'HTAN'\n",
    "template['project'] = 'Multiplex_Imaging'\n",
    "template['dataset'] = 'HT308B1-S1H5A4_U1_20230526'\n",
    "template['image_name'] = 'HT308B1-S1H5A4_U1_20230526'\n",
    "\n",
    "template.pop('port')\n",
    "template.pop('host')\n",
    "template.pop('image_id')"
   ]
  },
  {
   "cell_type": "code",
   "execution_count": 25,
   "id": "bee87d9a",
   "metadata": {},
   "outputs": [
    {
     "data": {
      "text/plain": [
       "{'dataset': 'HT308B1-S1H5A4_U1_20230526',\n",
       " 'filepath': {'class': 'File',\n",
       "  'path': '/storage1/fs1/dinglab/Active/Projects/estorrs/sandbox/test_images/HT308B1-S1H5A4_right_05262023.ome.tiff'},\n",
       " 'group': 'HTAN',\n",
       " 'image_name': 'HT308B1-S1H5A4_U1_20230526',\n",
       " 'project': 'Multiplex_Imaging'}"
      ]
     },
     "execution_count": 25,
     "metadata": {},
     "output_type": "execute_result"
    }
   ],
   "source": [
    "template"
   ]
  },
  {
   "cell_type": "code",
   "execution_count": 26,
   "id": "936a04a5",
   "metadata": {},
   "outputs": [],
   "source": [
    "yaml.safe_dump(template, open('/diskmnt/Projects/Users/estorrs/wombat/tests/data/omero_wrapper/inputs_upload.yaml', 'w'))\n"
   ]
  },
  {
   "cell_type": "code",
   "execution_count": 27,
   "id": "571c1a54",
   "metadata": {},
   "outputs": [],
   "source": [
    "template['filepath']['path'] = '/storage1/fs1/dinglab/Active/Projects/estorrs/sandbox/test_images/downloaded.ome.tiff'\n",
    "\n",
    "yaml.safe_dump(template, open('/diskmnt/Projects/Users/estorrs/wombat/tests/data/omero_wrapper/inputs_download.yaml', 'w'))\n",
    "\n",
    "\n"
   ]
  },
  {
   "cell_type": "code",
   "execution_count": 28,
   "id": "7f151072",
   "metadata": {},
   "outputs": [],
   "source": [
    "template.pop('filepath')\n",
    "yaml.safe_dump(template, open('/diskmnt/Projects/Users/estorrs/wombat/tests/data/omero_wrapper/inputs_get_thresholds.yaml', 'w'))\n"
   ]
  },
  {
   "cell_type": "code",
   "execution_count": null,
   "id": "f8afcca5",
   "metadata": {},
   "outputs": [],
   "source": [
    "\n",
    "yaml.safe_dump(template, open('/diskmnt/Projects/Users/estorrs/wombat/tests/data/omero_wrapper/inputs_get_thresholds.yaml', 'w'))\n"
   ]
  }
 ],
 "metadata": {
  "kernelspec": {
   "display_name": "Python 3 (ipykernel)",
   "language": "python",
   "name": "python3"
  },
  "language_info": {
   "codemirror_mode": {
    "name": "ipython",
    "version": 3
   },
   "file_extension": ".py",
   "mimetype": "text/x-python",
   "name": "python",
   "nbconvert_exporter": "python",
   "pygments_lexer": "ipython3",
   "version": "3.10.8"
  }
 },
 "nbformat": 4,
 "nbformat_minor": 5
}
